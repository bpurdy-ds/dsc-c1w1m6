{
  "nbformat": 4,
  "nbformat_minor": 0,
  "metadata": {
    "colab": {
      "provenance": []
    },
    "kernelspec": {
      "name": "python3",
      "display_name": "Python 3"
    },
    "language_info": {
      "name": "python"
    }
  },
  "cells": [
    {
      "cell_type": "markdown",
      "source": [
        "# Practice Data Engineering with Python\n",
        "\n",
        "Fill out the code, as necessary, below based on the directions in Canvas."
      ],
      "metadata": {
        "id": "x4PSaXT2YH4I"
      }
    },
    {
      "cell_type": "code",
      "execution_count": null,
      "metadata": {
        "id": "yzdlSYvqX54x"
      },
      "outputs": [],
      "source": []
    }
  ]
}